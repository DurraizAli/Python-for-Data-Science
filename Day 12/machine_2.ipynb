{
 "cells": [
  {
   "cell_type": "markdown",
   "metadata": {},
   "source": [
    "# When to use which machine learning algorithm\n",
    "For checking we use technique that is visualization\\\n",
    "By using pairplot with hue of result.\\\n",
    "We can get a plot, if the values are so much overlapped we cannot use linear regression.\\\n",
    "But if values are not overlapped and a straight line can be used to distinguish between points then use linear \\\n",
    "regression.\n",
    "\n",
    "* If the values are overlapped then we can use decision tree,KNN and random forest etc\n",
    "* Use decision tree if there is less overlapping\n",
    "* KNN is best option if the overlapping is alot\n",
    "* Random Forest is costliest "
   ]
  }
 ],
 "metadata": {
  "kernelspec": {
   "display_name": "Python 3",
   "language": "python",
   "name": "python3"
  },
  "language_info": {
   "name": "python",
   "version": "3.8.10"
  }
 },
 "nbformat": 4,
 "nbformat_minor": 2
}
